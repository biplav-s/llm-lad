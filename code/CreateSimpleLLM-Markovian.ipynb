{
 "cells": [
  {
   "cell_type": "code",
   "execution_count": 1,
   "id": "02592e8f",
   "metadata": {},
   "outputs": [],
   "source": [
    "## Using sample from:\n",
    "## - https://github.com/biplav-s/course-nl/blob/master/l7-language/code/TryMarkovifyLangModel.ipynb\n",
    "## - Markovify, https://github.com/jsvine/markovify\n"
   ]
  },
  {
   "cell_type": "code",
   "execution_count": 2,
   "id": "5fdad304",
   "metadata": {},
   "outputs": [],
   "source": [
    "# Install as needed\n",
    "#!pip install markovify\n"
   ]
  },
  {
   "cell_type": "code",
   "execution_count": 3,
   "id": "7556e3fd",
   "metadata": {},
   "outputs": [],
   "source": [
    "import markovify #Markov Chain Generator"
   ]
  },
  {
   "cell_type": "markdown",
   "id": "ecd1f1e2",
   "metadata": {},
   "source": [
    "## Case A: Controlled, Trivial Data"
   ]
  },
  {
   "cell_type": "code",
   "execution_count": 4,
   "id": "493c7029",
   "metadata": {},
   "outputs": [],
   "source": [
    "# Get raw text as string.\n",
    "with open(\"../data/trivial-corpus.txt\") as f:\n",
    "    text = f.read()\n",
    "\n"
   ]
  },
  {
   "cell_type": "code",
   "execution_count": 5,
   "id": "a262dbcd",
   "metadata": {},
   "outputs": [],
   "source": [
    "# Building the text model with Markov Chain\n",
    "text_model = markovify.Text(text, state_size = 2)\n",
    "\n"
   ]
  },
  {
   "cell_type": "code",
   "execution_count": 6,
   "id": "0c94f56b",
   "metadata": {},
   "outputs": [
    {
     "name": "stdout",
     "output_type": "stream",
     "text": [
      "Sentence 0: None\n",
      "Sentence 0: b becauses c. c causes d.\n",
      "--\n",
      "Sentence 1: People eat fruits. a becauses b.\n",
      "Sentence 1: People eat fruits. a becauses b.\n",
      "--\n",
      "Sentence 2: None\n",
      "Sentence 2: d causes fruits. a causes b.\n",
      "--\n",
      "Sentence 3: b becauses c. c causes d.\n",
      "Sentence 3: b becauses c. c causes d.\n",
      "--\n",
      "Sentence 4: None\n",
      "Sentence 4: d causes fruits. a causes b.\n",
      "--\n",
      "Sentence 5: None\n",
      "Sentence 5: b becauses c. c causes d.\n",
      "--\n",
      "Sentence 6: b becauses c. c causes d.\n",
      "Sentence 6: d causes fruits. a causes b.\n",
      "--\n",
      "Sentence 7: People eat fruits. a becauses b.\n",
      "Sentence 7: d causes fruits. a causes b.\n",
      "--\n",
      "Sentence 8: None\n",
      "Sentence 8: d causes fruits. a causes b.\n",
      "--\n",
      "Sentence 9: None\n",
      "Sentence 9: People eat fruits. a becauses b.\n",
      "--\n"
     ]
    }
   ],
   "source": [
    "# Randomly generate some text - 10 here\n",
    "for i in range(10):\n",
    "    # Unconstrained generation\n",
    "    print('Sentence ' + str(i) + ': ' + str(text_model.make_sentence()))\n",
    "    # Constrain by character limit for generation.\n",
    "    print('Sentence ' + str(i) + ': ' + str(text_model.make_short_sentence(50)))\n",
    "    print ('--')\n",
    "\n"
   ]
  },
  {
   "cell_type": "markdown",
   "id": "404bb7ee",
   "metadata": {},
   "source": [
    "## Case B: Large Data"
   ]
  },
  {
   "cell_type": "code",
   "execution_count": 7,
   "id": "f044252b",
   "metadata": {},
   "outputs": [],
   "source": [
    "# Get raw text as string.\n",
    "with open(\"../data/constitution-summary.txt\") as f:\n",
    "    text2 = f.read()\n"
   ]
  },
  {
   "cell_type": "code",
   "execution_count": 8,
   "id": "affdaba5",
   "metadata": {},
   "outputs": [],
   "source": [
    "# Building the text model with Markov Chain\n",
    "text_model2 = markovify.Text(text2, state_size = 2)\n"
   ]
  },
  {
   "cell_type": "code",
   "execution_count": 9,
   "id": "a23a93f7",
   "metadata": {},
   "outputs": [
    {
     "name": "stdout",
     "output_type": "stream",
     "text": [
      "Sentence 0: The constitutional head of the Union is the President.\n",
      "Sentence 0: The Republic is governed in terms of the Union is the President.\n",
      "--\n",
      "Sentence 1: The constitutional head of the Union is the President.\n",
      "Sentence 1: The constitutional head of the Union is the President.\n",
      "--\n",
      "Sentence 2: The Republic is governed in terms of the Union is the President.\n",
      "Sentence 2: The Republic is governed in terms of the Union is the President.\n",
      "--\n",
      "Sentence 3: The Republic is governed in terms of the Executive of the Executive of the Constitution of India which was adopted by the Constituent Assembly on 26th January, 1950.\n",
      "Sentence 3: The constitutional head of the Union is the President.\n",
      "--\n",
      "Sentence 4: The Republic is governed in terms of the Union is the President.\n",
      "Sentence 4: The Republic is governed in terms of the Union is the President.\n",
      "--\n",
      "Sentence 5: None\n",
      "Sentence 5: The Republic is governed in terms of the Union is the President.\n",
      "--\n",
      "Sentence 6: India, also known as Bharat, is a Sovereign Socialist Secular Democratic Republic with a parliamentary system of government.\n",
      "Sentence 6: The constitutional head of the Union is the President.\n",
      "--\n",
      "Sentence 7: The constitutional head of the Union is the President.\n",
      "Sentence 7: The constitutional head of the Union is the President.\n",
      "--\n",
      "Sentence 8: The Republic is governed in terms of the Executive of the Union is the President.\n",
      "Sentence 8: The Republic is governed in terms of the Union is the President.\n",
      "--\n",
      "Sentence 9: The Republic is governed in terms of the Union is the President.\n",
      "Sentence 9: The constitutional head of the Union is the President.\n",
      "--\n"
     ]
    }
   ],
   "source": [
    "# Randomly generate some text - 10 here\n",
    "for i in range(10):\n",
    "    # Unconstrained generation\n",
    "    print('Sentence ' + str(i) + ': ' + str(text_model2.make_sentence()))\n",
    "    # Constrain by character limit for generation.\n",
    "    print('Sentence ' + str(i) + ': ' + str(text_model2.make_short_sentence(80)))\n",
    "    print ('--')"
   ]
  },
  {
   "cell_type": "code",
   "execution_count": null,
   "id": "6ee4dcc5",
   "metadata": {},
   "outputs": [],
   "source": []
  },
  {
   "cell_type": "code",
   "execution_count": null,
   "id": "ef2724ee",
   "metadata": {},
   "outputs": [],
   "source": []
  },
  {
   "cell_type": "code",
   "execution_count": null,
   "id": "949f7390",
   "metadata": {},
   "outputs": [],
   "source": []
  },
  {
   "cell_type": "code",
   "execution_count": null,
   "id": "59ed29ce",
   "metadata": {},
   "outputs": [],
   "source": []
  }
 ],
 "metadata": {
  "kernelspec": {
   "display_name": "Python 3",
   "language": "python",
   "name": "python3"
  },
  "language_info": {
   "codemirror_mode": {
    "name": "ipython",
    "version": 3
   },
   "file_extension": ".py",
   "mimetype": "text/x-python",
   "name": "python",
   "nbconvert_exporter": "python",
   "pygments_lexer": "ipython3",
   "version": "3.7.6"
  }
 },
 "nbformat": 4,
 "nbformat_minor": 5
}
